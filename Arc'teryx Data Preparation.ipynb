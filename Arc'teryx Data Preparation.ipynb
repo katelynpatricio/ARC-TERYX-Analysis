{
 "cells": [
  {
   "cell_type": "markdown",
   "id": "7d5f7f43",
   "metadata": {},
   "source": [
    "### Import Libraries"
   ]
  },
  {
   "cell_type": "code",
   "execution_count": 5,
   "id": "92346fb1",
   "metadata": {},
   "outputs": [],
   "source": [
    "import pandas as pd\n",
    "import matplotlib.pyplot as plt\n",
    "import numpy as np\n",
    "from sqlalchemy import create_engine\n",
    "import sqlite3\n",
    "import os"
   ]
  },
  {
   "cell_type": "markdown",
   "id": "02215fc4",
   "metadata": {},
   "source": [
    "### Load in dataset\n",
    "The data is a mock dataset generated using ChatGPT for demonstration and analysis purposes"
   ]
  },
  {
   "cell_type": "code",
   "execution_count": 6,
   "id": "0e7dab60",
   "metadata": {},
   "outputs": [],
   "source": [
    "data = pd.read_csv('arcteryx_data_2022_2024.csv')\n",
    "df = pd.DataFrame(data)"
   ]
  },
  {
   "cell_type": "markdown",
   "id": "bf9ca24b",
   "metadata": {},
   "source": [
    "### Dataset Overview"
   ]
  },
  {
   "cell_type": "code",
   "execution_count": 7,
   "id": "c9994d39",
   "metadata": {},
   "outputs": [
    {
     "data": {
      "text/plain": [
       "(10500, 15)"
      ]
     },
     "execution_count": 7,
     "metadata": {},
     "output_type": "execute_result"
    }
   ],
   "source": [
    "# Check Dataset Dimensions\n",
    "df.shape"
   ]
  },
  {
   "cell_type": "code",
   "execution_count": 8,
   "id": "4eae0fb2",
   "metadata": {},
   "outputs": [
    {
     "data": {
      "text/plain": [
       "Index(['OrderDate', 'CustomerID', 'OrderID', 'ProductID', 'ProductName',\n",
       "       'Category', 'Gender', 'Age', 'Quantity', 'ExpectedPrice', 'FinalPrice',\n",
       "       'Discount', 'Rating', 'Region', 'PaymentMethod'],\n",
       "      dtype='object')"
      ]
     },
     "execution_count": 8,
     "metadata": {},
     "output_type": "execute_result"
    }
   ],
   "source": [
    "# View Column Names\n",
    "df.columns"
   ]
  },
  {
   "cell_type": "code",
   "execution_count": 32,
   "id": "f811a3c8",
   "metadata": {},
   "outputs": [
    {
     "data": {
      "text/html": [
       "<div>\n",
       "<style scoped>\n",
       "    .dataframe tbody tr th:only-of-type {\n",
       "        vertical-align: middle;\n",
       "    }\n",
       "\n",
       "    .dataframe tbody tr th {\n",
       "        vertical-align: top;\n",
       "    }\n",
       "\n",
       "    .dataframe thead th {\n",
       "        text-align: right;\n",
       "    }\n",
       "</style>\n",
       "<table border=\"1\" class=\"dataframe\">\n",
       "  <thead>\n",
       "    <tr style=\"text-align: right;\">\n",
       "      <th></th>\n",
       "      <th>OrderDate</th>\n",
       "      <th>CustomerID</th>\n",
       "      <th>OrderID</th>\n",
       "      <th>ProductID</th>\n",
       "      <th>ProductName</th>\n",
       "      <th>Category</th>\n",
       "      <th>Gender</th>\n",
       "      <th>Age</th>\n",
       "      <th>Quantity</th>\n",
       "      <th>ExpectedPrice</th>\n",
       "      <th>FinalPrice</th>\n",
       "      <th>Discount</th>\n",
       "      <th>Rating</th>\n",
       "      <th>Region</th>\n",
       "      <th>PaymentMethod</th>\n",
       "    </tr>\n",
       "  </thead>\n",
       "  <tbody>\n",
       "    <tr>\n",
       "      <th>0</th>\n",
       "      <td>2022-04-13</td>\n",
       "      <td>420c61e3-2071-45a7-b522-0e23deca877b</td>\n",
       "      <td>0d4f06bd-4685-4f51-84da-6c69085623a8</td>\n",
       "      <td>PROD-ALPHA1409</td>\n",
       "      <td>Alpha SV Jacket</td>\n",
       "      <td>Shell</td>\n",
       "      <td>NaN</td>\n",
       "      <td>35</td>\n",
       "      <td>1</td>\n",
       "      <td>768.21</td>\n",
       "      <td>766.92</td>\n",
       "      <td>0.00</td>\n",
       "      <td>2.0</td>\n",
       "      <td>Europe</td>\n",
       "      <td>PayPal</td>\n",
       "    </tr>\n",
       "    <tr>\n",
       "      <th>1</th>\n",
       "      <td>2022-12-15</td>\n",
       "      <td>ec3fd6f7-7e98-4328-9138-e154bb599e2d</td>\n",
       "      <td>6322f32d-21ba-4fe7-8b91-77a44b29ecec</td>\n",
       "      <td>PROD-SENTINEL2424</td>\n",
       "      <td>Sentinel LT Jacket</td>\n",
       "      <td>Insulated</td>\n",
       "      <td>NaN</td>\n",
       "      <td>45</td>\n",
       "      <td>2</td>\n",
       "      <td>520.21</td>\n",
       "      <td>532.68</td>\n",
       "      <td>-0.02</td>\n",
       "      <td>1.0</td>\n",
       "      <td>North America</td>\n",
       "      <td>Credit Card</td>\n",
       "    </tr>\n",
       "    <tr>\n",
       "      <th>2</th>\n",
       "      <td>2022-09-28</td>\n",
       "      <td>ed1bf901-3a3c-40ec-b621-140d242e6a6a</td>\n",
       "      <td>b7181f59-9d30-4b02-88f4-6c6af260712a</td>\n",
       "      <td>PROD-SABRE9279</td>\n",
       "      <td>Sabre AR Pants</td>\n",
       "      <td>Shell</td>\n",
       "      <td>Non-binary</td>\n",
       "      <td>19</td>\n",
       "      <td>2</td>\n",
       "      <td>495.86</td>\n",
       "      <td>489.59</td>\n",
       "      <td>0.01</td>\n",
       "      <td>5.0</td>\n",
       "      <td>Europe</td>\n",
       "      <td>Apple Pay</td>\n",
       "    </tr>\n",
       "    <tr>\n",
       "      <th>3</th>\n",
       "      <td>2022-04-17</td>\n",
       "      <td>68fdea1c-c926-4563-bd81-df3314da0e85</td>\n",
       "      <td>754b0df2-e0e7-4e8e-a61d-19663c62a885</td>\n",
       "      <td>PROD-SIDEWINDER5557</td>\n",
       "      <td>Sidewinder Pants</td>\n",
       "      <td>Shell</td>\n",
       "      <td>NaN</td>\n",
       "      <td>28</td>\n",
       "      <td>3</td>\n",
       "      <td>402.38</td>\n",
       "      <td>401.25</td>\n",
       "      <td>0.00</td>\n",
       "      <td>NaN</td>\n",
       "      <td>Online</td>\n",
       "      <td>Gift Card</td>\n",
       "    </tr>\n",
       "    <tr>\n",
       "      <th>4</th>\n",
       "      <td>2022-03-13</td>\n",
       "      <td>aecba884-3456-4450-a251-6f7094b6bf27</td>\n",
       "      <td>1077b5f4-689e-4a0a-bab9-3c8fbb67807c</td>\n",
       "      <td>PROD-CORMAC4527</td>\n",
       "      <td>Cormac Shirt</td>\n",
       "      <td>Mid Layer</td>\n",
       "      <td>NaN</td>\n",
       "      <td>24</td>\n",
       "      <td>1</td>\n",
       "      <td>408.04</td>\n",
       "      <td>385.47</td>\n",
       "      <td>0.06</td>\n",
       "      <td>1.0</td>\n",
       "      <td>Online</td>\n",
       "      <td>Credit Card</td>\n",
       "    </tr>\n",
       "  </tbody>\n",
       "</table>\n",
       "</div>"
      ],
      "text/plain": [
       "    OrderDate                            CustomerID  \\\n",
       "0  2022-04-13  420c61e3-2071-45a7-b522-0e23deca877b   \n",
       "1  2022-12-15  ec3fd6f7-7e98-4328-9138-e154bb599e2d   \n",
       "2  2022-09-28  ed1bf901-3a3c-40ec-b621-140d242e6a6a   \n",
       "3  2022-04-17  68fdea1c-c926-4563-bd81-df3314da0e85   \n",
       "4  2022-03-13  aecba884-3456-4450-a251-6f7094b6bf27   \n",
       "\n",
       "                                OrderID            ProductID  \\\n",
       "0  0d4f06bd-4685-4f51-84da-6c69085623a8       PROD-ALPHA1409   \n",
       "1  6322f32d-21ba-4fe7-8b91-77a44b29ecec    PROD-SENTINEL2424   \n",
       "2  b7181f59-9d30-4b02-88f4-6c6af260712a       PROD-SABRE9279   \n",
       "3  754b0df2-e0e7-4e8e-a61d-19663c62a885  PROD-SIDEWINDER5557   \n",
       "4  1077b5f4-689e-4a0a-bab9-3c8fbb67807c      PROD-CORMAC4527   \n",
       "\n",
       "          ProductName   Category      Gender  Age  Quantity  ExpectedPrice  \\\n",
       "0     Alpha SV Jacket      Shell         NaN   35         1         768.21   \n",
       "1  Sentinel LT Jacket  Insulated         NaN   45         2         520.21   \n",
       "2      Sabre AR Pants      Shell  Non-binary   19         2         495.86   \n",
       "3    Sidewinder Pants      Shell         NaN   28         3         402.38   \n",
       "4        Cormac Shirt  Mid Layer         NaN   24         1         408.04   \n",
       "\n",
       "   FinalPrice  Discount  Rating         Region PaymentMethod  \n",
       "0      766.92      0.00     2.0         Europe        PayPal  \n",
       "1      532.68     -0.02     1.0  North America   Credit Card  \n",
       "2      489.59      0.01     5.0         Europe     Apple Pay  \n",
       "3      401.25      0.00     NaN         Online     Gift Card  \n",
       "4      385.47      0.06     1.0         Online   Credit Card  "
      ]
     },
     "execution_count": 32,
     "metadata": {},
     "output_type": "execute_result"
    }
   ],
   "source": [
    "# Preview the Dataset\n",
    "df.head()"
   ]
  },
  {
   "cell_type": "code",
   "execution_count": 33,
   "id": "4990288e",
   "metadata": {},
   "outputs": [
    {
     "name": "stdout",
     "output_type": "stream",
     "text": [
      "<class 'pandas.core.frame.DataFrame'>\n",
      "RangeIndex: 10500 entries, 0 to 10499\n",
      "Data columns (total 15 columns):\n",
      " #   Column         Non-Null Count  Dtype  \n",
      "---  ------         --------------  -----  \n",
      " 0   OrderDate      10500 non-null  object \n",
      " 1   CustomerID     10500 non-null  object \n",
      " 2   OrderID        10500 non-null  object \n",
      " 3   ProductID      10500 non-null  object \n",
      " 4   ProductName    10500 non-null  object \n",
      " 5   Category       10500 non-null  object \n",
      " 6   Gender         6574 non-null   object \n",
      " 7   Age            10500 non-null  int64  \n",
      " 8   Quantity       10500 non-null  int64  \n",
      " 9   ExpectedPrice  10500 non-null  float64\n",
      " 10  FinalPrice     10500 non-null  float64\n",
      " 11  Discount       10500 non-null  float64\n",
      " 12  Rating         8727 non-null   float64\n",
      " 13  Region         10500 non-null  object \n",
      " 14  PaymentMethod  10500 non-null  object \n",
      "dtypes: float64(4), int64(2), object(9)\n",
      "memory usage: 1.2+ MB\n"
     ]
    }
   ],
   "source": [
    "# Overview of the dataset’s structure and missing data\n",
    "df.info()"
   ]
  },
  {
   "cell_type": "code",
   "execution_count": 34,
   "id": "18cd4a3c",
   "metadata": {},
   "outputs": [
    {
     "data": {
      "text/plain": [
       "OrderDate           0\n",
       "CustomerID          0\n",
       "OrderID             0\n",
       "ProductID           0\n",
       "ProductName         0\n",
       "Category            0\n",
       "Gender           3926\n",
       "Age                 0\n",
       "Quantity            0\n",
       "ExpectedPrice       0\n",
       "FinalPrice          0\n",
       "Discount            0\n",
       "Rating           1773\n",
       "Region              0\n",
       "PaymentMethod       0\n",
       "dtype: int64"
      ]
     },
     "execution_count": 34,
     "metadata": {},
     "output_type": "execute_result"
    }
   ],
   "source": [
    "# Note: 'Gender' and 'Rating' columns contain missing values that require cleaning\n",
    "df.isnull().sum()"
   ]
  },
  {
   "cell_type": "markdown",
   "id": "620ef3c3",
   "metadata": {},
   "source": [
    "### Data Cleaning"
   ]
  },
  {
   "cell_type": "code",
   "execution_count": 35,
   "id": "c026c1d2",
   "metadata": {},
   "outputs": [],
   "source": [
    "# Convert ID columns to string type\n",
    "df['CustomerID'] = df['CustomerID'].astype(str)\n",
    "df['OrderID'] = df['OrderID'].astype(str)\n",
    "df['ProductID'] = df['ProductID'].astype(str)"
   ]
  },
  {
   "cell_type": "code",
   "execution_count": 36,
   "id": "eb4ace23",
   "metadata": {},
   "outputs": [],
   "source": [
    "# Standardize gender column\n",
    "standardGender = {'M': 'Male', 'F': 'Female', None: 'Unknown'}\n",
    "df['Gender'] = df['Gender'].str.strip().replace(standardGender)"
   ]
  },
  {
   "cell_type": "code",
   "execution_count": null,
   "id": "8ece2aa4",
   "metadata": {},
   "outputs": [],
   "source": [
    "# Convert 'Rating' to numeric, coercing errors to NaN, then fill missing values with 0\n",
    "df['Rating'] = pd.to_numeric(df['Rating'], errors='coerce').fillna(0)"
   ]
  },
  {
   "cell_type": "code",
   "execution_count": 39,
   "id": "ee74d736",
   "metadata": {},
   "outputs": [
    {
     "data": {
      "text/plain": [
       "OrderDate        0\n",
       "CustomerID       0\n",
       "OrderID          0\n",
       "ProductID        0\n",
       "ProductName      0\n",
       "Category         0\n",
       "Gender           0\n",
       "Age              0\n",
       "Quantity         0\n",
       "ExpectedPrice    0\n",
       "FinalPrice       0\n",
       "Discount         0\n",
       "Rating           0\n",
       "Region           0\n",
       "PaymentMethod    0\n",
       "dtype: int64"
      ]
     },
     "execution_count": 39,
     "metadata": {},
     "output_type": "execute_result"
    }
   ],
   "source": [
    "# Re-check missing values and data types after cleaning\n",
    "df.isnull().sum()"
   ]
  },
  {
   "cell_type": "code",
   "execution_count": 40,
   "id": "80806442",
   "metadata": {},
   "outputs": [
    {
     "data": {
      "text/plain": [
       "np.int64(0)"
      ]
     },
     "execution_count": 40,
     "metadata": {},
     "output_type": "execute_result"
    }
   ],
   "source": [
    "# Check if there are any duplicate rows\n",
    "df.duplicated().sum()"
   ]
  },
  {
   "cell_type": "markdown",
   "id": "35196829",
   "metadata": {},
   "source": [
    "### Create database and table for data to live"
   ]
  },
  {
   "cell_type": "code",
   "execution_count": 60,
   "id": "c0270cb0",
   "metadata": {},
   "outputs": [
    {
     "name": "stdout",
     "output_type": "stream",
     "text": [
      "        OrderDate                            CustomerID  \\\n",
      "0      2022-04-13  420c61e3-2071-45a7-b522-0e23deca877b   \n",
      "1      2022-12-15  ec3fd6f7-7e98-4328-9138-e154bb599e2d   \n",
      "2      2022-09-28  ed1bf901-3a3c-40ec-b621-140d242e6a6a   \n",
      "3      2022-04-17  68fdea1c-c926-4563-bd81-df3314da0e85   \n",
      "4      2022-03-13  aecba884-3456-4450-a251-6f7094b6bf27   \n",
      "...           ...                                   ...   \n",
      "10495  2024-12-18  d8a4b1c9-1713-4d66-a634-7bf20fb8e5c3   \n",
      "10496  2024-04-10  ecdb4deb-d93b-45ff-bee9-cc10b8fafd13   \n",
      "10497  2024-01-01  86d646ac-1f1f-46d8-8dd7-43e4af33865b   \n",
      "10498  2024-12-16  34e8a3ec-67b7-465b-9a6a-c23e784dced0   \n",
      "10499  2024-01-07  3e47d06e-e910-416d-8049-3677187a5a91   \n",
      "\n",
      "                                    OrderID            ProductID  \\\n",
      "0      0d4f06bd-4685-4f51-84da-6c69085623a8       PROD-ALPHA1409   \n",
      "1      6322f32d-21ba-4fe7-8b91-77a44b29ecec    PROD-SENTINEL2424   \n",
      "2      b7181f59-9d30-4b02-88f4-6c6af260712a       PROD-SABRE9279   \n",
      "3      754b0df2-e0e7-4e8e-a61d-19663c62a885  PROD-SIDEWINDER5557   \n",
      "4      1077b5f4-689e-4a0a-bab9-3c8fbb67807c      PROD-CORMAC4527   \n",
      "...                                     ...                  ...   \n",
      "10495  86fb94e7-82c2-416f-b209-c00773e8358a     PROD-KYANITE5024   \n",
      "10496  a42f166d-f3b9-477e-9bf6-0161b6b50402      PROD-CORMAC4994   \n",
      "10497  b143f5b4-27df-4588-bf8c-0e3f4b7c7662       PROD-ACRUX9183   \n",
      "10498  ae57a730-8030-4912-8bc5-db2774ff065c       PROD-ALPHA7281   \n",
      "10499  a6c285db-bed6-4506-8908-bce0dbaff88f      PROD-CERIUM7864   \n",
      "\n",
      "              ProductName   Category      Gender  Age  Quantity  \\\n",
      "0         Alpha SV Jacket      Shell     Unknown   35         1   \n",
      "1      Sentinel LT Jacket  Insulated     Unknown   45         2   \n",
      "2          Sabre AR Pants      Shell  Non-binary   19         2   \n",
      "3        Sidewinder Pants      Shell     Unknown   28         3   \n",
      "4            Cormac Shirt  Mid Layer     Unknown   24         1   \n",
      "...                   ...        ...         ...  ...       ...   \n",
      "10495       Kyanite Hoody  Softshell  Non-binary   56         2   \n",
      "10496        Cormac Shirt  Mid Layer  Non-binary   55         3   \n",
      "10497  Acrux TR GTX Shoes   Footwear      Female   51         3   \n",
      "10498     Alpha SV Jacket      Shell       Other   60         1   \n",
      "10499    Cerium LT Jacket  Insulated  Non-binary   20         2   \n",
      "\n",
      "       ExpectedPrice  FinalPrice  Discount  Rating         Region  \\\n",
      "0             768.21      766.92      0.00     2.0         Europe   \n",
      "1             520.21      532.68     -0.02     1.0  North America   \n",
      "2             495.86      489.59      0.01     5.0         Europe   \n",
      "3             402.38      401.25      0.00     0.0         Online   \n",
      "4             408.04      385.47      0.06     1.0         Online   \n",
      "...              ...         ...       ...     ...            ...   \n",
      "10495         580.16      552.55      0.05     5.0         Europe   \n",
      "10496         638.20      633.26      0.01     0.0  North America   \n",
      "10497         192.06      170.88      0.11     4.0         Europe   \n",
      "10498         557.72      552.02      0.01     1.0  North America   \n",
      "10499         462.79      421.13      0.09     1.0   Asia Pacific   \n",
      "\n",
      "      PaymentMethod  \n",
      "0            PayPal  \n",
      "1       Credit Card  \n",
      "2         Apple Pay  \n",
      "3         Gift Card  \n",
      "4       Credit Card  \n",
      "...             ...  \n",
      "10495     Apple Pay  \n",
      "10496   Credit Card  \n",
      "10497   Credit Card  \n",
      "10498     Apple Pay  \n",
      "10499     Apple Pay  \n",
      "\n",
      "[10500 rows x 15 columns]\n"
     ]
    }
   ],
   "source": [
    "# Connect to SQLite database\n",
    "conn = sqlite3.connect('arcteryx_products.db')\n",
    "\n",
    "# Write the cleaned DataFrame to a new SQL table, replacing existing one (if already exists)\n",
    "df.to_sql('cleanedTable', conn, if_exists='replace', index=False)\n",
    "\n",
    "# Preview dataset\n",
    "result = pd.read_sql('SELECT * FROM cleanedTable', conn)\n",
    "print(result)\n",
    "\n",
    "conn.close()"
   ]
  },
  {
   "cell_type": "markdown",
   "id": "dfc6b29a",
   "metadata": {},
   "source": [
    "#### Note: Due to limitations with the free version of Tableau (which does not support direct connections to SQL databases), the required data was exported into an Excel file ('arcteryxDataCleaned.xlsx')."
   ]
  }
 ],
 "metadata": {
  "kernelspec": {
   "display_name": "Python 3 (ipykernel)",
   "language": "python",
   "name": "python3"
  },
  "language_info": {
   "codemirror_mode": {
    "name": "ipython",
    "version": 3
   },
   "file_extension": ".py",
   "mimetype": "text/x-python",
   "name": "python",
   "nbconvert_exporter": "python",
   "pygments_lexer": "ipython3",
   "version": "3.12.2"
  }
 },
 "nbformat": 4,
 "nbformat_minor": 5
}
